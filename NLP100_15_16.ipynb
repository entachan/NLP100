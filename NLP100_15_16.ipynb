{
 "cells": [
  {
   "cell_type": "code",
   "execution_count": 2,
   "metadata": {
    "scrolled": true
   },
   "outputs": [
    {
     "name": "stdout",
     "output_type": "stream",
     "text": [
      "['Benjamin\\tM\\t13381\\t2018\\n', 'Elijah\\tM\\t12886\\t2018\\n', 'Lucas\\tM\\t12585\\t2018\\n', 'Mason\\tM\\t12435\\t2018\\n', 'Logan\\tM\\t12352\\t2018\\n']\n"
     ]
    }
   ],
   "source": [
    "#15.\n",
    "def print_func(N):\n",
    "    f=open(\"popular-names.txt\",'r')\n",
    "    text=f.readlines()\n",
    "    print(text[-1*N :])\n",
    "    \n",
    "    f.close()\n",
    "\n",
    "print_func(5)"
   ]
  },
  {
   "cell_type": "code",
   "execution_count": 3,
   "metadata": {},
   "outputs": [
    {
     "name": "stdout",
     "output_type": "stream",
     "text": [
      "Logan\tM\t12352\t2018\n",
      "Mason\tM\t12435\t2018\n",
      "Lucas\tM\t12585\t2018\n",
      "Elijah\tM\t12886\t2018\n",
      "Benjamin\tM\t13381\t2018\n"
     ]
    }
   ],
   "source": [
    "#15-2.\n",
    "def print_func2(N):\n",
    "    f=open(\"popular-names.txt\",'r')\n",
    "    text=f.readlines()\n",
    "    \n",
    "    for x in range(N):\n",
    "        print(text[-1*(x+1)].replace(\"\\n\",\"\"))\n",
    "        \n",
    "    f.close()\n",
    "\n",
    "print_func2(5)"
   ]
  },
  {
   "cell_type": "code",
   "execution_count": 20,
   "metadata": {},
   "outputs": [
    {
     "name": "stdout",
     "output_type": "stream",
     "text": [
      "2780\n",
      "0\n",
      "463\n",
      "463\n",
      "926\n",
      "926\n",
      "1389\n",
      "1389\n",
      "1852\n",
      "1852\n",
      "2315\n"
     ]
    }
   ],
   "source": [
    "#16.\n",
    "\n",
    "##output_16_*.txt のかたちでファイルを作る\n",
    "\n",
    "##ながれ\n",
    "##1.分割数を知る@split_N関数\n",
    "##2.ラベル作る→ファイルを作る@make_file関数\n",
    "##3.ファイルに文をwriteする@file_write関数\n",
    "\n",
    "##x個目のファイルを作る\n",
    "def make_file(x):\n",
    "    new_output_name=\"output_16_\" + str(x) + \".txt\"\n",
    "    f_out=open(new_output_name,'w')\n",
    "    return f_out\n",
    "    \n",
    "##ファイルに書き込む\n",
    "def file_write(file_name,raw_num,text):\n",
    "    file_name.write(\"\".join(text))\n",
    "    file_name.close()\n",
    "\n",
    "def split_N(N):\n",
    "    f=open(\"popular-names.txt\",'r')\n",
    "    text=f.readlines()\n",
    "    \n",
    "    #行数(1~N-1このファイル)\n",
    "    raw_num=len(text)//N\n",
    "    \n",
    "    for x in range(N):\n",
    "        #1~N-1個目\n",
    "        if x!= N-1 :\n",
    "            file_write(make_file(x+1),raw_num,text[x*raw_num:x*raw_num+raw_num])\n",
    "        #N個目→のこり全部をいれる\n",
    "        else:\n",
    "            file_write(make_file(x+1),raw_num,text[x*raw_num:])\n",
    "    f.close()\n",
    "\n",
    "    \n",
    "split_N(6)\n"
   ]
  },
  {
   "cell_type": "code",
   "execution_count": null,
   "metadata": {},
   "outputs": [],
   "source": []
  }
 ],
 "metadata": {
  "kernelspec": {
   "display_name": "Python 3",
   "language": "python",
   "name": "python3"
  },
  "language_info": {
   "codemirror_mode": {
    "name": "ipython",
    "version": 3
   },
   "file_extension": ".py",
   "mimetype": "text/x-python",
   "name": "python",
   "nbconvert_exporter": "python",
   "pygments_lexer": "ipython3",
   "version": "3.6.5"
  }
 },
 "nbformat": 4,
 "nbformat_minor": 2
}
