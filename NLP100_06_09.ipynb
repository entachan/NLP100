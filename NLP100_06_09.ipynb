{
 "cells": [
  {
   "cell_type": "code",
   "execution_count": 6,
   "metadata": {
    "scrolled": true
   },
   "outputs": [
    {
     "name": "stdout",
     "output_type": "stream",
     "text": [
      "{'gr', 'ad', 'ag', 'ph', 'ra', 'se', 'ar', 'ap', 'di', 'is', 'pa'}\n",
      "{'ar', 'ap', 'ra', 'pa'}\n",
      "{'is', 'di', 'se', 'ad'}\n",
      "True\n"
     ]
    }
   ],
   "source": [
    "#06.\n",
    "##05.で作ったn-gramの関数\n",
    "def n_gram(text,n):\n",
    "    text_len=len(text)\n",
    "    result=[]\n",
    "    \n",
    "    for i in range(text_len-n+1):\n",
    "        result.append(text[i:i+n])\n",
    "    \n",
    "    return result\n",
    "\n",
    "\n",
    "text1=\"paraparaparadise\"\n",
    "text2=\"paragraph\"\n",
    "\n",
    "X=set(n_gram(text1,2))\n",
    "Y=set(n_gram(text2,2))\n",
    "\n",
    "##和集合\n",
    "print(X.union(Y))\n",
    "##積集合\n",
    "print(X.intersection(Y))\n",
    "##差集合\n",
    "print(X.difference(Y))\n",
    "##'se'がXとYの和集合に入っているか\n",
    "print(\"se\" in X.union(Y))"
   ]
  },
  {
   "cell_type": "code",
   "execution_count": 7,
   "metadata": {},
   "outputs": [
    {
     "name": "stdout",
     "output_type": "stream",
     "text": [
      "12時の気温は22.4\n"
     ]
    }
   ],
   "source": [
    "#07.\n",
    "def make_sentence(x,y,z):\n",
    "    return \"{}時の{}は{}\".format(x,y,z)\n",
    "    \n",
    "\n",
    "x=12\n",
    "y=\"気温\"\n",
    "z=22.4\n",
    "print(make_sentence(x,y,z))"
   ]
  },
  {
   "cell_type": "code",
   "execution_count": 9,
   "metadata": {},
   "outputs": [
    {
     "name": "stdout",
     "output_type": "stream",
     "text": [
      "I'n 22 bvzih low.\n"
     ]
    }
   ],
   "source": [
    "#08.\n",
    "def cipher(text):\n",
    "    result=\"\"\n",
    "    \n",
    "    for i in text:\n",
    "        ##英小文字のとき\n",
    "        if 97<=ord(i)<=122:\n",
    "            result=result+chr(219-ord(i))\n",
    "        ##それ以外のとき\n",
    "        else:\n",
    "            result=result+i\n",
    "    \n",
    "    return result\n",
    "\n",
    "text=\"I'm 22 years old.\"\n",
    "print(cipher(text))"
   ]
  },
  {
   "cell_type": "code",
   "execution_count": 24,
   "metadata": {},
   "outputs": [
    {
     "name": "stdout",
     "output_type": "stream",
     "text": [
      "I cun’oldt bilevee that I cluod alcatluy unesrntadd what I was ridaeng : the paoehmennl peowr of the hmaun mind .\n"
     ]
    }
   ],
   "source": [
    "#09.\n",
    "import random\n",
    "\n",
    "text=\"I couldn’t believe that I could actually understand what I was reading : the phenomenal power of the human mind .\"\n",
    "text_split=text.split(' ')\n",
    "result=\"\"\n",
    "tmp=\"\"\n",
    "\n",
    "for x in text_split:\n",
    "    x_len=len(x)\n",
    "    \n",
    "    ##単語の長さが5以上のとき\n",
    "    if x_len>4:\n",
    "        ###1文字目\n",
    "        tmp=tmp+x[0]\n",
    "        ###2文字目-\n",
    "        y=x[1:x_len-1]\n",
    "        tmp=tmp+\"\".join(random.sample(y,x_len-2))\n",
    "        ##最後の文字\n",
    "        tmp=tmp+x[x_len-1]\n",
    "        \n",
    "        result=result+tmp\n",
    "        tmp=\"\"\n",
    "        \n",
    "    ##単語の長さが4以下のとき\n",
    "    else:\n",
    "        result=result+x\n",
    "    \n",
    "    if x!=\".\":\n",
    "        result=result+\" \"\n",
    "        \n",
    "print(result)"
   ]
  },
  {
   "cell_type": "code",
   "execution_count": null,
   "metadata": {},
   "outputs": [],
   "source": []
  }
 ],
 "metadata": {
  "kernelspec": {
   "display_name": "Python 3",
   "language": "python",
   "name": "python3"
  },
  "language_info": {
   "codemirror_mode": {
    "name": "ipython",
    "version": 3
   },
   "file_extension": ".py",
   "mimetype": "text/x-python",
   "name": "python",
   "nbconvert_exporter": "python",
   "pygments_lexer": "ipython3",
   "version": "3.6.5"
  }
 },
 "nbformat": 4,
 "nbformat_minor": 2
}
