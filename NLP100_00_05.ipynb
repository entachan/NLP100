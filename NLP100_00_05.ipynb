{
 "cells": [
  {
   "cell_type": "code",
   "execution_count": 1,
   "metadata": {},
   "outputs": [
    {
     "name": "stdout",
     "output_type": "stream",
     "text": [
      "desserts\n"
     ]
    }
   ],
   "source": [
    "#00.\n",
    "text=\"stressed\"\n",
    "print(text[::-1])"
   ]
  },
  {
   "cell_type": "code",
   "execution_count": 4,
   "metadata": {},
   "outputs": [
    {
     "name": "stdout",
     "output_type": "stream",
     "text": [
      "パトカー\n"
     ]
    }
   ],
   "source": [
    "#01.\n",
    "text=\"パタトクカシーー\"\n",
    "print(text[::2])"
   ]
  },
  {
   "cell_type": "code",
   "execution_count": 3,
   "metadata": {},
   "outputs": [
    {
     "name": "stdout",
     "output_type": "stream",
     "text": [
      "パタトクカシーー\n"
     ]
    }
   ],
   "source": [
    "#02.\n",
    "text1=\"パトカー\"\n",
    "text2=\"タクシー\"\n",
    "text3=\"\"\n",
    "\n",
    "for i in range(len(text1)+len(text2)):\n",
    "    if i%2==0:\n",
    "        text3=text3+text1[i//2]\n",
    "    else:\n",
    "        text3=text3+text2[i//2]\n",
    "        \n",
    "print(text3)"
   ]
  },
  {
   "cell_type": "code",
   "execution_count": 6,
   "metadata": {},
   "outputs": [
    {
     "name": "stdout",
     "output_type": "stream",
     "text": [
      "[3, 1, 4, 1, 5, 9, 2, 6, 5, 3, 5, 8, 9, 7, 9]\n"
     ]
    }
   ],
   "source": [
    "#03.\n",
    "text=\"Now I need a drink, alcoholic of course, after the heavy lectures involving quantum mechanics.\"\n",
    "text_new=text.replace('.','').replace(',','')\n",
    "\n",
    "num_list=[len(x) for x in text_new.split(' ')]\n",
    "\n",
    "print(num_list)"
   ]
  },
  {
   "cell_type": "code",
   "execution_count": 9,
   "metadata": {},
   "outputs": [
    {
     "name": "stdout",
     "output_type": "stream",
     "text": [
      "{0: 'H', 1: 'He', 2: 'Li', 3: 'Be', 4: 'B', 5: 'C', 6: 'N', 7: 'O', 8: 'F', 9: 'Ne', 10: 'Na', 11: 'Mi', 12: 'Al', 13: 'Si', 14: 'P', 15: 'S', 16: 'Cl', 17: 'Ar', 18: 'K', 19: 'Ca'}\n"
     ]
    }
   ],
   "source": [
    "#04.\n",
    "text=\"Hi He Lied Because Boron Could Not Oxidize Fluorine. New Nations Might Also Sign Peace Security Clause. Arthur King Can.\"\n",
    "word_list=text.split(' ')\n",
    "\n",
    "element={}\n",
    "\n",
    "for i in range(len(word_list)):\n",
    "    if i+1 in [1,5,6,7,8,9,15,16,19]:\n",
    "        word=word_list[i]\n",
    "        element[i]=word[0]\n",
    "    else:\n",
    "        word=word_list[i]\n",
    "        element[i]=word[0:2]\n",
    "\n",
    "print(element)"
   ]
  },
  {
   "cell_type": "code",
   "execution_count": 15,
   "metadata": {},
   "outputs": [
    {
     "name": "stdout",
     "output_type": "stream",
     "text": [
      "[['I', 'am'], ['am', 'an'], ['an', 'NLPer']]\n",
      "['I ', ' a', 'am', 'm ', ' a', 'an', 'n ', ' N', 'NL', 'LP', 'Pe', 'er']\n",
      "['Ia', 'am', 'ma', 'an', 'nN', 'NL', 'LP', 'Pe', 'er']\n"
     ]
    }
   ],
   "source": [
    "#05.\n",
    "def n_gram(text,n):\n",
    "    text_len=len(text)\n",
    "    result=[]\n",
    "    \n",
    "    for i in range(text_len-n+1):\n",
    "        result.append(text[i:i+n])\n",
    "    \n",
    "    return result\n",
    "\n",
    "text=\"I am an NLPer\"\n",
    "\n",
    "##単語bi-gram\n",
    "print(n_gram(text.split(' '),2))\n",
    "##文字bi-gram\n",
    "print(n_gram(text,2))\n",
    "print(n_gram(text.replace(' ',''),2))"
   ]
  },
  {
   "cell_type": "code",
   "execution_count": null,
   "metadata": {},
   "outputs": [],
   "source": []
  }
 ],
 "metadata": {
  "kernelspec": {
   "display_name": "Python 3",
   "language": "python",
   "name": "python3"
  },
  "language_info": {
   "codemirror_mode": {
    "name": "ipython",
    "version": 3
   },
   "file_extension": ".py",
   "mimetype": "text/x-python",
   "name": "python",
   "nbconvert_exporter": "python",
   "pygments_lexer": "ipython3",
   "version": "3.6.5"
  }
 },
 "nbformat": 4,
 "nbformat_minor": 2
}
