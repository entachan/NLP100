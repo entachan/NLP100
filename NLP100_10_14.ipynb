{
 "cells": [
  {
   "cell_type": "code",
   "execution_count": 4,
   "metadata": {},
   "outputs": [
    {
     "name": "stdout",
     "output_type": "stream",
     "text": [
      "2780\n"
     ]
    }
   ],
   "source": [
    "#10.\n",
    "f=open('popular-names.txt','r')\n",
    "print(len(f.readlines()))\n",
    "f.close()"
   ]
  },
  {
   "cell_type": "code",
   "execution_count": 5,
   "metadata": {},
   "outputs": [],
   "source": [
    "#11.\n",
    "f=open('popular-names.txt','r')\n",
    "f_new=open('popular-names_11.txt','w')\n",
    "\n",
    "text=f.read()\n",
    "\n",
    "f_new.write(text.replace('\\t',' '))\n",
    "\n",
    "f.close()\n",
    "f_new.close()"
   ]
  },
  {
   "cell_type": "code",
   "execution_count": 58,
   "metadata": {},
   "outputs": [],
   "source": [
    "#12.\n",
    "f=open('popular-names.txt_11','r')\n",
    "f_new1=open('col1.txt','w')\n",
    "f_new2=open('col2.txt','w')\n",
    "text=f.readlines()\n",
    "\n",
    "for i in range(2780):\n",
    "    text_new=text[i].split(' ')\n",
    "    f_new1.write(text_new[0]+\"\\n\")\n",
    "    f_new2.write(text_new[1]+\"\\n\")\n",
    "\n",
    "f.close()\n",
    "f_new1.close()\n",
    "f_new2.close()"
   ]
  },
  {
   "cell_type": "code",
   "execution_count": 63,
   "metadata": {},
   "outputs": [],
   "source": [
    "#13.\n",
    "f=open('popular-names_13.txt','w')\n",
    "f_1=open('col1.txt','r')\n",
    "f_2=open('col2.txt','r')\n",
    "\n",
    "for i in range(2780):\n",
    "    f.write(f_1.readline().replace(\"\\n\",\"\\t\")+f_2.readline())\n",
    "    \n",
    "f.close()\n",
    "f_1.close()\n",
    "f_2.close()"
   ]
  },
  {
   "cell_type": "code",
   "execution_count": 65,
   "metadata": {},
   "outputs": [
    {
     "name": "stdout",
     "output_type": "stream",
     "text": [
      "Mary\tF\t7065\t1880\n",
      "\n",
      "Anna\tF\t2604\t1880\n",
      "\n",
      "Emma\tF\t2003\t1880\n",
      "\n",
      "Elizabeth\tF\t1939\t1880\n",
      "\n"
     ]
    }
   ],
   "source": [
    "#14.\n",
    "def print_func(N):\n",
    "    f=open('popular-names.txt','r')\n",
    "    \n",
    "    for _ in range(N):\n",
    "        print(f.readline())\n",
    "        \n",
    "print_func(4)"
   ]
  },
  {
   "cell_type": "code",
   "execution_count": null,
   "metadata": {},
   "outputs": [],
   "source": []
  }
 ],
 "metadata": {
  "kernelspec": {
   "display_name": "Python 3",
   "language": "python",
   "name": "python3"
  },
  "language_info": {
   "codemirror_mode": {
    "name": "ipython",
    "version": 3
   },
   "file_extension": ".py",
   "mimetype": "text/x-python",
   "name": "python",
   "nbconvert_exporter": "python",
   "pygments_lexer": "ipython3",
   "version": "3.6.5"
  }
 },
 "nbformat": 4,
 "nbformat_minor": 2
}
